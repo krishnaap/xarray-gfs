{
  "nbformat": 4,
  "nbformat_minor": 0,
  "metadata": {
    "colab": {
      "provenance": [],
      "authorship_tag": "ABX9TyODYoGYkv40S7zXgTkQ/7Pe",
      "include_colab_link": true
    },
    "kernelspec": {
      "name": "python3",
      "display_name": "Python 3"
    },
    "language_info": {
      "name": "python"
    }
  },
  "cells": [
    {
      "cell_type": "markdown",
      "metadata": {
        "id": "view-in-github",
        "colab_type": "text"
      },
      "source": [
        "<a href=\"https://colab.research.google.com/github/krishnaap/xarray-gfs/blob/master/GFS_plot.ipynb\" target=\"_parent\"><img src=\"https://colab.research.google.com/assets/colab-badge.svg\" alt=\"Open In Colab\"/></a>"
      ]
    },
    {
      "cell_type": "code",
      "execution_count": null,
      "metadata": {
        "id": "jDTyz9_Ot9eQ"
      },
      "outputs": [],
      "source": [
        "import xarray as xr\n",
        "import matplotlib.pyplot as plt\n",
        "\n",
        "# Download GFS GRIB2 data using OpenDAP\n",
        "url = 'https://nomads.ncep.noaa.gov/dods/gfs_0p25/gfs20220218/gfs_0p25_00z'\n",
        "ds = xr.open_dataset(url, engine='pynio')\n",
        "\n",
        "# Extract surface air temperature and convert from Kelvin to Celsius\n",
        "t2m = ds.T2M[0,:,:]-273.15\n",
        "\n",
        "# Plot surface air temperature using matplotlib\n",
        "fig, ax = plt.subplots()\n",
        "t2m.plot(ax=ax, cmap='coolwarm')\n",
        "ax.set_title('GFS Surface Air Temperature')\n",
        "plt.show()\n"
      ]
    }
  ]
}